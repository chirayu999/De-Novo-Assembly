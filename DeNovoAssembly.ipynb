{
  "cells": [
    {
      "cell_type": "code",
      "execution_count": 1,
      "metadata": {
        "colab": {
          "base_uri": "https://localhost:8080/"
        },
        "id": "cbWN6eRVxSCf",
        "outputId": "315a373d-3677-4519-d269-8bcab6d81991"
      },
      "outputs": [
        {
          "output_type": "stream",
          "name": "stdout",
          "text": [
            "Collecting Bio\n",
            "  Downloading bio-1.3.8-py3-none-any.whl (269 kB)\n",
            "\u001b[K     |████████████████████████████████| 269 kB 7.1 MB/s \n",
            "\u001b[?25hCollecting biopython>=1.79\n",
            "  Downloading biopython-1.79-cp37-cp37m-manylinux_2_5_x86_64.manylinux1_x86_64.whl (2.3 MB)\n",
            "\u001b[K     |████████████████████████████████| 2.3 MB 49.2 MB/s \n",
            "\u001b[?25hRequirement already satisfied: requests in /usr/local/lib/python3.7/dist-packages (from Bio) (2.23.0)\n",
            "Collecting mygene\n",
            "  Downloading mygene-3.2.2-py2.py3-none-any.whl (5.4 kB)\n",
            "Requirement already satisfied: tqdm in /usr/local/lib/python3.7/dist-packages (from Bio) (4.64.0)\n",
            "Requirement already satisfied: numpy in /usr/local/lib/python3.7/dist-packages (from biopython>=1.79->Bio) (1.21.6)\n",
            "Collecting biothings-client>=0.2.6\n",
            "  Downloading biothings_client-0.2.6-py2.py3-none-any.whl (37 kB)\n",
            "Requirement already satisfied: certifi>=2017.4.17 in /usr/local/lib/python3.7/dist-packages (from requests->Bio) (2021.10.8)\n",
            "Requirement already satisfied: chardet<4,>=3.0.2 in /usr/local/lib/python3.7/dist-packages (from requests->Bio) (3.0.4)\n",
            "Requirement already satisfied: urllib3!=1.25.0,!=1.25.1,<1.26,>=1.21.1 in /usr/local/lib/python3.7/dist-packages (from requests->Bio) (1.24.3)\n",
            "Requirement already satisfied: idna<3,>=2.5 in /usr/local/lib/python3.7/dist-packages (from requests->Bio) (2.10)\n",
            "Installing collected packages: biothings-client, mygene, biopython, Bio\n",
            "Successfully installed Bio-1.3.8 biopython-1.79 biothings-client-0.2.6 mygene-3.2.2\n"
          ]
        }
      ],
      "source": [
        "!pip install Bio"
      ]
    },
    {
      "cell_type": "code",
      "execution_count": 2,
      "metadata": {
        "id": "AIjazEO9DwvY"
      },
      "outputs": [],
      "source": [
        "import math"
      ]
    },
    {
      "cell_type": "code",
      "execution_count": 3,
      "metadata": {
        "id": "6u2sSNIG-q2a"
      },
      "outputs": [],
      "source": [
        "prefixMap = {}"
      ]
    },
    {
      "cell_type": "code",
      "execution_count": 4,
      "metadata": {
        "id": "MhDDWJGXYzhM"
      },
      "outputs": [],
      "source": [
        "suffixList = []\n"
      ]
    },
    {
      "cell_type": "code",
      "execution_count": 5,
      "metadata": {
        "id": "CTaGv_a0-uka"
      },
      "outputs": [],
      "source": [
        "encode = {}\n",
        "\n",
        "encode[\"A\"] = 1\n",
        "encode[\"C\"] = 2\n",
        "encode[\"T\"] = 3\n",
        "encode[\"G\"] = 4"
      ]
    },
    {
      "cell_type": "code",
      "execution_count": 6,
      "metadata": {
        "id": "zkSQMuvQBy1C"
      },
      "outputs": [],
      "source": [
        "prime = 1073741789"
      ]
    },
    {
      "cell_type": "code",
      "execution_count": 7,
      "metadata": {
        "id": "DHPaf-BdDV0_"
      },
      "outputs": [],
      "source": [
        "def rabinKarpPrefix(seq,readID):\n",
        "    iterations = 17\n",
        "    start = 0\n",
        "    length = 85\n",
        "\n",
        "    hash = 0\n",
        "\n",
        "    for i in range(85):\n",
        "        x = encode[seq[84-i]]\n",
        "        hash += (x*math.pow(5,i)) % prime\n",
        "\n",
        "    k = (hash,length)\n",
        "    prefixMap.setdefault(k, [])\n",
        "    prefixMap[k].append(readID)\n",
        "\n",
        "\n",
        "    for i in range(16):\n",
        "\n",
        "        y = encode[seq[85+i]]\n",
        "        hash = (5*hash + y) % prime\n",
        "        key = (hash,length+i)\n",
        "        prefixMap.setdefault(key, [])\n",
        "        prefixMap[key].append(readID)\n",
        "\n",
        "    \n",
        "        \n",
        "        \n",
        "        "
      ]
    },
    {
      "cell_type": "code",
      "execution_count": 8,
      "metadata": {
        "id": "hbnwX8LGY3mn"
      },
      "outputs": [],
      "source": [
        "def rabinKarpSuffix(seq,readID):\n",
        "\n",
        "   \n",
        "\n",
        "    \n",
        "    length = 85\n",
        "\n",
        "    hash = 0\n",
        "\n",
        "    for i in range(85):\n",
        "        x = encode[seq[100-i]]\n",
        "        hash += (x*math.pow(5,i)) % prime\n",
        "\n",
        "    suffixList.append([hash,length,readID])\n",
        "\n",
        "\n",
        "    for i in range(16):\n",
        "        y = encode[seq[15-i]]\n",
        "        hash += (5*y) % prime\n",
        "        suffixList.append([hash,length+i+1,readID])"
      ]
    },
    {
      "cell_type": "code",
      "execution_count": 9,
      "metadata": {
        "id": "NpGGK4AMwDeJ"
      },
      "outputs": [],
      "source": [
        "from Bio import SeqIO\n",
        "readID =0\n",
        "\n",
        "fasta_sequences = SeqIO.parse(open('/content/drive/MyDrive/DeNovo/reads.fasta'),'fasta')\n",
        "for fasta in fasta_sequences:\n",
        "  name, sequence = fasta.id, str(fasta.seq)\n",
        "  reverseComplement = str(fasta.seq.reverse_complement())\n",
        "  \n",
        "  # Code Snippet credit for parsing and reverse complement:\n",
        "  # https://biopython.org/wiki/SeqIO\n",
        "  readIdOfRead = 2*readID\n",
        "  readIdOfComplement = 2*readID + 1\n",
        "\n",
        "  rabinKarpPrefix(sequence,readIdOfRead)\n",
        "  rabinKarpSuffix(sequence,readIdOfRead)\n",
        "\n",
        "  rabinKarpPrefix(reverseComplement,readIdOfComplement)\n",
        "  rabinKarpSuffix(reverseComplement,readIdOfComplement)\n",
        "  \n",
        "  readID += 1\n",
        "  "
      ]
    },
    {
      "cell_type": "code",
      "execution_count": null,
      "metadata": {
        "colab": {
          "base_uri": "https://localhost:8080/"
        },
        "id": "rARO1UpCP8J2",
        "outputId": "60b2a724-6763-4ca4-c3dc-a8742a9bfcad"
      },
      "outputs": [
        {
          "data": {
            "text/plain": [
              "19220356"
            ]
          },
          "execution_count": 11,
          "metadata": {},
          "output_type": "execute_result"
        }
      ],
      "source": [
        "len(prefixMap)"
      ]
    },
    {
      "cell_type": "code",
      "execution_count": null,
      "metadata": {
        "colab": {
          "base_uri": "https://localhost:8080/"
        },
        "id": "D2IUvF8MgNoe",
        "outputId": "417319c6-f13b-4fdd-a6d8-eec8ba700627"
      },
      "outputs": [
        {
          "data": {
            "text/plain": [
              "574846"
            ]
          },
          "execution_count": 12,
          "metadata": {},
          "output_type": "execute_result"
        }
      ],
      "source": [
        "readID"
      ]
    },
    {
      "cell_type": "code",
      "execution_count": 10,
      "metadata": {
        "id": "FdbwHir-g21b"
      },
      "outputs": [],
      "source": [
        "r = 2*readID"
      ]
    },
    {
      "cell_type": "code",
      "execution_count": 11,
      "metadata": {
        "id": "Afecg6DFgqZd"
      },
      "outputs": [],
      "source": [
        "graph = [[]]*r"
      ]
    },
    {
      "cell_type": "code",
      "execution_count": null,
      "metadata": {
        "colab": {
          "base_uri": "https://localhost:8080/"
        },
        "id": "7eaTGlJ8hL6I",
        "outputId": "2d72cb25-f194-4786-8ddb-c1f9118c6565"
      },
      "outputs": [
        {
          "data": {
            "text/plain": [
              "[37751230606.0, 85, 0]"
            ]
          },
          "execution_count": 17,
          "metadata": {},
          "output_type": "execute_result"
        }
      ],
      "source": [
        "suffixList[0]"
      ]
    },
    {
      "cell_type": "code",
      "execution_count": 12,
      "metadata": {
        "id": "qmX9-4x8hm6g"
      },
      "outputs": [],
      "source": [
        "sortedSuffixList = sorted(suffixList, key=lambda x: x[1], reverse = True)"
      ]
    },
    {
      "cell_type": "code",
      "source": [
        "for fp,lenOfSuffix,srcReadID in sortedSuffixList:\n",
        "  if((fp,lenOfSuffix) in prefixMap):\n",
        "    Lp = prefixMap[(fp,lenOfSuffix)]\n",
        "    l = []\n",
        "    for destReadID in Lp:\n",
        "      l.append([destReadID,lenOfSuffix])\n",
        "\n",
        "      graph[srcReadID] = l\n"
      ],
      "metadata": {
        "id": "sP1bn2Kl5p0C"
      },
      "execution_count": 13,
      "outputs": []
    },
    {
      "cell_type": "code",
      "source": [
        "f = open('sub1.txt', 'w')"
      ],
      "metadata": {
        "id": "hZrXzOea56Lo"
      },
      "execution_count": 14,
      "outputs": []
    },
    {
      "cell_type": "code",
      "source": [
        "for x in graph:\n",
        "  if(len(x)!=0):\n",
        "    for y in x:\n",
        "      f.write(\"S\\t\" + str(y[0]) + \"\\t*\\t\"+ \"LN:i:\" + str(y[1]) + '\\n')"
      ],
      "metadata": {
        "id": "zFKS7dOr6EUs"
      },
      "execution_count": 15,
      "outputs": []
    },
    {
      "cell_type": "code",
      "source": [
        "for i in range(len(graph)):\n",
        "  if(len(graph[i]) != 0):\n",
        "    for j in range(len(graph[i])):\n",
        "      f.write(\"L\\t\" + str(i) + \"\\t+\\t\"+ str(graph[i][j][0]) + \"\\t+\\t\" + str(graph[i][j][1]) + \"M\" + '\\n')"
      ],
      "metadata": {
        "id": "XXySkkke6w3B"
      },
      "execution_count": 16,
      "outputs": []
    }
  ],
  "metadata": {
    "colab": {
      "name": "DeNovoAssembly.ipynb",
      "provenance": []
    },
    "kernelspec": {
      "display_name": "Python 3",
      "name": "python3"
    },
    "language_info": {
      "name": "python"
    }
  },
  "nbformat": 4,
  "nbformat_minor": 0
}